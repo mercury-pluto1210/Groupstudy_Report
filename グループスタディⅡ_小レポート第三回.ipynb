{
  "nbformat": 4,
  "nbformat_minor": 0,
  "metadata": {
    "colab": {
      "name": "グループスタディⅡ 小レポート第三回.ipynb",
      "provenance": [],
      "collapsed_sections": [],
      "authorship_tag": "ABX9TyPuqrfKJEdO07MS/kpM/r6w"
    },
    "kernelspec": {
      "name": "python3",
      "display_name": "Python 3"
    }
  },
  "cells": [
    {
      "cell_type": "markdown",
      "metadata": {
        "id": "XiBaNc855Dq9"
      },
      "source": [
        "**問題１** 4つの数a,b,c,dを受け取り、ベクトル(a, b)と(c, d)の内積を計算する関数、inner(a,b,c,d)を書き、適当な例を使って確かめよ。\n",
        "\n",
        "\n",
        "```\n",
        "def inner(a, b, c, d):\n",
        "  ...\n",
        "\n",
        "print inner(...)\n",
        "```\n",
        "\n"
      ]
    },
    {
      "cell_type": "code",
      "metadata": {
        "colab": {
          "base_uri": "https://localhost:8080/"
        },
        "id": "H3nahNRzZR0o",
        "outputId": "785d6d41-4724-414b-8a1b-f43f0f976d42"
      },
      "source": [
        "def inner(a, b, c, d): # 内積を計算する関数\n",
        "  return a * c + b * d\n",
        "\n",
        "print(\"2つのベクトルを入力してください\") # 2つのベクトルを入力させ、inner関数を呼び出す\n",
        "a = int(input(\"a: \"))\n",
        "b = int(input(\"b: \"))\n",
        "c = int(input(\"c: \"))\n",
        "d = int(input(\"d: \"))\n",
        "print (\"2つのベクトルの内積は\", inner(a, b, c, d), \"です\")"
      ],
      "execution_count": null,
      "outputs": [
        {
          "output_type": "stream",
          "text": [
            "2つのベクトルを入力してください\n",
            "a: 1\n",
            "b: 2\n",
            "c: 3\n",
            "d: 4\n",
            "2つのベクトルの内積は 11 です\n"
          ],
          "name": "stdout"
        }
      ]
    },
    {
      "cell_type": "markdown",
      "metadata": {
        "id": "ZW-Ygh7a7deI"
      },
      "source": [
        "**問題２** 4つの数a,b,c,dを受け取り、ベクトル(a, b)と(c, d)のなす角を計算する関数、angle(a,b,c,d)を書き、適当な例を使って確かめよ。前間で用いた、innerを使う。また、arccosは、mathモジュールに、acosという関数が提供されている。\n",
        "\n",
        "```\n",
        "from math import *\n",
        "def angle(a, b, c, d):\n",
        "  ...\n",
        "\n",
        "print angle(...)\n",
        "```\n",
        "\n"
      ]
    },
    {
      "cell_type": "code",
      "metadata": {
        "colab": {
          "base_uri": "https://localhost:8080/"
        },
        "id": "zx1VZMUZ4oM1",
        "outputId": "90ccbd66-0ffa-47bf-a14a-829373000e01"
      },
      "source": [
        "def inner(a, b, c, d): # 内積を計算する関数\n",
        "  return a * c + b * d\n",
        "\n",
        "from math import *\n",
        "def angle(a, b, c, d): # なす角を計算する関数\n",
        "  innerDef = inner(a, b, c, d)\n",
        "  ab = sqrt(a ** 2 + b ** 2)\n",
        "  cd = sqrt(c ** 2 + d ** 2)\n",
        "  arccosNum = acos(innerDef / (ab * cd))\n",
        "  return degrees(arccosNum) # ラジアンを度に変換して返却する\n",
        "\n",
        "print(\"2つのベクトルを入力してください\") # 2つのベクトルを入力させ、angle関数を呼び出す\n",
        "a = int(input(\"a: \"))\n",
        "b = int(input(\"b: \"))\n",
        "c = int(input(\"c: \"))\n",
        "d = int(input(\"d: \"))\n",
        "print (\"2つのベクトルのなす角は\", angle(a, b, c, d), \"です\")"
      ],
      "execution_count": null,
      "outputs": [
        {
          "output_type": "stream",
          "text": [
            "2つのベクトルを入力してください\n",
            "a: 3\n",
            "b: 4\n",
            "c: -4\n",
            "d: 3\n",
            "2つのベクトルのなす角は 90.0 です\n"
          ],
          "name": "stdout"
        }
      ]
    },
    {
      "cell_type": "markdown",
      "metadata": {
        "id": "RvKobHWx8BBw"
      },
      "source": [
        "**問題３** 整数nを受け取り、次の漸化式で定まる数列のanを計算する関数a(n)を書き、適当な例を使って確かめよ。"
      ]
    },
    {
      "cell_type": "code",
      "metadata": {
        "colab": {
          "base_uri": "https://localhost:8080/"
        },
        "id": "qCDWx4I-Axa1",
        "outputId": "12de1e18-88a1-43be-fdfa-a30e677232d9"
      },
      "source": [
        "def a(n): # 漸化式を計算する関数\n",
        "  if(n == 0):\n",
        "    return 0\n",
        "  elif(n > 0):\n",
        "    return 2 * a(n - 1) + 1\n",
        "\n",
        "n = int(input(\"n = \"))\n",
        "print(a(n))"
      ],
      "execution_count": null,
      "outputs": [
        {
          "output_type": "stream",
          "text": [
            "n = 3\n",
            "7\n"
          ],
          "name": "stdout"
        }
      ]
    },
    {
      "cell_type": "markdown",
      "metadata": {
        "id": "w1Cm0Z-S8aNv"
      },
      "source": [
        "**問題４** ニュートン法を使って3乗根を計算するプログラムを書け"
      ]
    },
    {
      "cell_type": "code",
      "metadata": {
        "colab": {
          "base_uri": "https://localhost:8080/"
        },
        "id": "5Ps7UATTB4tv",
        "outputId": "4d036602-79d9-4415-ea46-f8204a7afcb3"
      },
      "source": [
        "n = 10 # ある程度大きなnを決める\n",
        "\n",
        "def cbrt(c): # 任意の数の3乗根を計算する関数\n",
        "  def a(n): # cの3乗根に収束する数列を内包する関数\n",
        "    if(n == 0):\n",
        "      return c\n",
        "    elif(n > 0):\n",
        "      return (1 / 3) * (2 * a(n - 1) + c / (a(n - 1) ** 2))\n",
        "  return a(n)\n",
        "\n",
        "num = int(input(\"いくつの3乗根を調べますか: \"))\n",
        "print(\"3乗根は\", cbrt(num))\n",
        "print(\"3乗して元に戻すと\", cbrt(num) ** 3)"
      ],
      "execution_count": null,
      "outputs": [
        {
          "output_type": "stream",
          "text": [
            "いくつの3乗根を調べますか: 4\n",
            "3乗根は 1.5874010519681994\n",
            "3乗して元に戻すと 3.999999999999999\n"
          ],
          "name": "stdout"
        }
      ]
    },
    {
      "cell_type": "markdown",
      "metadata": {
        "id": "kNg2JjvM8n8C"
      },
      "source": [
        "**問題５** 整数nを受け取り、次の漸化式で定まる数列のanを計算する関数a(n)を書き、適当な例を使って確かめよ。"
      ]
    },
    {
      "cell_type": "code",
      "metadata": {
        "colab": {
          "base_uri": "https://localhost:8080/"
        },
        "id": "TjDaDmpNFtp-",
        "outputId": "d11dd135-001a-4699-d3de-bba6048b8650"
      },
      "source": [
        "def a(n): # 少し複雑な漸化式を計算する関数\n",
        "  if(n == 0):\n",
        "    return 1\n",
        "  if(n == 1):\n",
        "    return 1\n",
        "  if(n > 1):\n",
        "    return a(n - 1) + 2 * a(n - 2)\n",
        "\n",
        "n = int(input(\"n = \"))\n",
        "print(a(n))"
      ],
      "execution_count": null,
      "outputs": [
        {
          "output_type": "stream",
          "text": [
            "n = 4\n",
            "11\n"
          ],
          "name": "stdout"
        }
      ]
    },
    {
      "cell_type": "markdown",
      "metadata": {
        "id": "Agjl14q883PZ"
      },
      "source": [
        "**問題６** 積分の定義式を実際に計算する\\\n",
        "① 積分区間[a, b]の中に多数の点a = x0 < x1 < ... < xn = bを取る。最も簡単には、n等分すればよい。"
      ]
    },
    {
      "cell_type": "code",
      "metadata": {
        "colab": {
          "base_uri": "https://localhost:8080/"
        },
        "id": "xn1zMJhgtIaC",
        "outputId": "e50194d3-44cf-4c0d-a357-9d172392f4bf"
      },
      "source": [
        "def equalParts(a, b, n): # aからbまでの範囲をn等分してリストで返す関数\n",
        "  c = a + (b - a) / n\n",
        "  lists = []\n",
        "  while True:\n",
        "    lists.append(c)\n",
        "    c += (b - a) / n\n",
        "    if(c >= b):\n",
        "      break\n",
        "  return lists\n",
        "\n",
        "print(equalParts(1, 2, 10))"
      ],
      "execution_count": null,
      "outputs": [
        {
          "output_type": "stream",
          "text": [
            "[1.1, 1.2000000000000002, 1.3000000000000003, 1.4000000000000004, 1.5000000000000004, 1.6000000000000005, 1.7000000000000006, 1.8000000000000007, 1.9000000000000008]\n"
          ],
          "name": "stdout"
        }
      ]
    },
    {
      "cell_type": "markdown",
      "metadata": {
        "id": "JAzuQ0w_9hQ6"
      },
      "source": [
        "②f(xi)(xi+1 - xi)の和を計算する"
      ]
    },
    {
      "cell_type": "code",
      "metadata": {
        "id": "rDuRqpKRtVLS"
      },
      "source": [
        "from math import *\n",
        "def numberFunction(x): # 任意のf(x)を作成する関数\n",
        "  return sqrt(x ** 2 - 1)\n",
        "\n",
        "num = 100 # 何等分するかを入力する\n",
        "sum = 0\n",
        "for i in range(num - 2): # 和を計算する\n",
        "  sum += numberFunction(equalParts(1, 2, num)[i]) * (equalParts(1, 2, num)[i + 1] - equalParts(1, 2, num)[i])"
      ],
      "execution_count": null,
      "outputs": []
    },
    {
      "cell_type": "markdown",
      "metadata": {
        "id": "e3qd42SL9rBD"
      },
      "source": [
        "まとめ"
      ]
    },
    {
      "cell_type": "code",
      "metadata": {
        "colab": {
          "base_uri": "https://localhost:8080/"
        },
        "id": "HuSx-nz0H7oQ",
        "outputId": "1ffa5030-707b-4348-9e59-3cc0ed5878bb"
      },
      "source": [
        "def equalParts(a, b, n): # aからbまでの範囲をn等分してリストで返す関数\n",
        "  c = a + (b - a) / n\n",
        "  lists = []\n",
        "  while True:\n",
        "    lists.append(c)\n",
        "    c += (b - a) / n\n",
        "    if(c >= b):\n",
        "      break\n",
        "  return lists\n",
        "\n",
        "from math import *\n",
        "def numberFunction(x): # 任意のf(x)を作成する関数\n",
        "  return sqrt(x ** 2 - 1)\n",
        "\n",
        "num = 100 # 何等分するかを入力する\n",
        "sum = 0\n",
        "for i in range(num - 2): # 和を計算する\n",
        "  sum += numberFunction(equalParts(1, 2, num)[i]) * (equalParts(1, 2, num)[i + 1] - equalParts(1, 2, num)[i])\n",
        "\n",
        "print(sum)"
      ],
      "execution_count": null,
      "outputs": [
        {
          "output_type": "stream",
          "text": [
            "1.0474222007568599\n"
          ],
          "name": "stdout"
        }
      ]
    },
    {
      "cell_type": "code",
      "metadata": {
        "colab": {
          "base_uri": "https://localhost:8080/"
        },
        "id": "2t624rDuZXQf",
        "outputId": "41485bb3-33a9-4cd7-9785-b70660e41305"
      },
      "source": [
        "def plus_one(x):\n",
        "  return x + 1\n",
        "\n",
        "def twice(f, x):\n",
        "  return f(f(x))\n",
        "\n",
        "print(twice(plus_one, 3))"
      ],
      "execution_count": null,
      "outputs": [
        {
          "output_type": "stream",
          "text": [
            "5\n"
          ],
          "name": "stdout"
        }
      ]
    },
    {
      "cell_type": "markdown",
      "metadata": {
        "id": "rlUclbJi9vxn"
      },
      "source": [
        "**問題７** Pythonでは,(defを使って)定義された関数を他の関数の入力として渡すこともできる。例えば\n",
        "\n",
        "```\n",
        "def plus_one(x):\n",
        "  return x + 1\n",
        "\n",
        "def twice(f, x):\n",
        "  return f(f(x))\n",
        "\n",
        "print(twice(plus_one, 3))\n",
        "```\n",
        "のように。ここで,twiceは「任意の関数を」受け取ることができ、それを2回適用することができる。\\\n",
        "積分を計算する汎用的な関数,integrate(f, a, b)を書いてみよ。\n",
        "\n",
        "\n"
      ]
    },
    {
      "cell_type": "code",
      "metadata": {
        "colab": {
          "base_uri": "https://localhost:8080/"
        },
        "id": "fXc0U4qBpDa6",
        "outputId": "02575ddf-a226-4db0-c10a-45e2765fd250"
      },
      "source": [
        "def equalParts(a, b, n): # aからbまでの範囲をn等分してリストで返す関数\n",
        "  c = a + (b - a) / n\n",
        "  lists = []\n",
        "  while True:\n",
        "    lists.append(c)\n",
        "    c += (b - a) / n\n",
        "    if(c >= b):\n",
        "      break\n",
        "  return lists\n",
        "\n",
        "from math import *\n",
        "def numberFunction(x): # 任意のf(x)を作成する関数\n",
        "  return sqrt(x ** 2 - 1)\n",
        "\n",
        "def integrate(f, a, b):\n",
        "  num = 100 # 何等分するかを入力する\n",
        "  sum = 0\n",
        "  for i in range(num - 2): # 和を計算する\n",
        "    sum += f(equalParts(1, 2, num)[i]) * (equalParts(1, 2, num)[i + 1] - equalParts(1, 2, num)[i]) \n",
        "  return sum\n",
        "\n",
        "print(integrate(numberFunction, 1, 2))"
      ],
      "execution_count": null,
      "outputs": [
        {
          "output_type": "stream",
          "text": [
            "1.0474222007568599\n"
          ],
          "name": "stdout"
        }
      ]
    },
    {
      "cell_type": "markdown",
      "metadata": {
        "id": "ky67Yr-U-YBH"
      },
      "source": [
        "**問題８** 指数関数を微分方程式によって解く関数solve(c)を書き、それをPythonの組込み関数expを用いた結果と比較してみよ。"
      ]
    },
    {
      "cell_type": "code",
      "metadata": {
        "colab": {
          "base_uri": "https://localhost:8080/"
        },
        "id": "xKyBTdeCv2RV",
        "outputId": "7179220f-6376-4da5-d710-1f949ab19a26"
      },
      "source": [
        "def numberFunction(x, y): # 任意のf(x)を作成する関数\n",
        "  return y\n",
        "\n",
        "def solve(c): # 指数関数を漸化式で微分して求める関数\n",
        "  num = 100 # 何等分するかを入力する\n",
        "  sum = 1\n",
        "  dx = c / num\n",
        "  for i in range(num): # 和を計算する\n",
        "    sum += numberFunction(i * dx, sum) * dx\n",
        "  return sum\n",
        "\n",
        "print(\"solve関数とexp関数の値の比較をします\")\n",
        "a = float(input(\"指数: \"))\n",
        "print(\"solve関数: \", solve(a))\n",
        "print(\"exp関数: \", exp(a))"
      ],
      "execution_count": null,
      "outputs": [
        {
          "output_type": "stream",
          "text": [
            "solve関数とexp関数の値の比較をします\n",
            "指数: 1\n",
            "solve関数:  2.704813829421526\n",
            "exp関数:  2.718281828459045\n"
          ],
          "name": "stdout"
        }
      ]
    },
    {
      "cell_type": "markdown",
      "metadata": {
        "id": "e3ilgTnP-wCu"
      },
      "source": [
        "**問題９** 上記微分方程式の解のcにおける値y(c)を計算するPython関数\n",
        "ode_solvel(f, a, b, c)を書け。これができれば前問は\n",
        "\n",
        "```\n",
        "def f(x, y):\n",
        "  return y\n",
        "\n",
        "def solve(c):\n",
        "  return ode_solve1(f, 0.0, 1.0, c)\n",
        "```\n",
        "でよいことになる(少し工夫すれば,c > aという条件は不要)。\n",
        "\n"
      ]
    },
    {
      "cell_type": "code",
      "metadata": {
        "colab": {
          "base_uri": "https://localhost:8080/"
        },
        "id": "keCsBDRIy5Ty",
        "outputId": "f76c3199-42eb-4a44-8963-daeade4dc1a5"
      },
      "source": [
        "def ode_solve1(f, a, b, c): # 前問のsolve関数を引数で簡略した関数\n",
        "  num = 100 # 何等分するかを入力する\n",
        "  sum = b \n",
        "  dx = c / num\n",
        "  for i in range(a, num): # 和を計算する\n",
        "    sum += f(i * dx, sum) * dx\n",
        "  return sum\n",
        "\n",
        "def f(x, y): # 任意のf(x)を作成する関数\n",
        "  return y\n",
        "\n",
        "def solve(c): \n",
        "  return ode_solve1(f, 0, 1, c)\n",
        "\n",
        "print(\"solve関数とexp関数の値の比較をします\")\n",
        "a = float(input(\"指数: \"))\n",
        "print(\"solve関数: \", solve(a))\n",
        "print(\"exp関数: \", exp(a))"
      ],
      "execution_count": null,
      "outputs": [
        {
          "output_type": "stream",
          "text": [
            "solve関数とexp関数の値の比較をします\n",
            "指数: 1\n",
            "solve関数:  2.704813829421526\n",
            "exp関数:  2.718281828459045\n"
          ],
          "name": "stdout"
        }
      ]
    }
  ]
}